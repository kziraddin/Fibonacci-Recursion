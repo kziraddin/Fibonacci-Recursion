{
 "cells": [
  {
   "cell_type": "code",
   "execution_count": 1,
   "id": "5db06e3f",
   "metadata": {},
   "outputs": [],
   "source": [
    "import unittest"
   ]
  },
  {
   "cell_type": "code",
   "execution_count": 2,
   "id": "c36164ca",
   "metadata": {},
   "outputs": [],
   "source": [
    "def Fibrecursion(n):\n",
    "    # Write your code here\n",
    "    if n in [1,2]:\n",
    "        return 1\n",
    "    elif n == 0:   #in case n might be 0, therefore need to be assigned n !=0 because there is no Fibonacci 0\n",
    "        return 0\n",
    "    return Fibrecursion(n-2) + Fibrecursion(n-1)"
   ]
  },
  {
   "cell_type": "code",
   "execution_count": 3,
   "id": "56dce630",
   "metadata": {},
   "outputs": [
    {
     "data": {
      "text/plain": [
       "4181"
      ]
     },
     "execution_count": 3,
     "metadata": {},
     "output_type": "execute_result"
    }
   ],
   "source": [
    "Fibrecursion(19)"
   ]
  },
  {
   "cell_type": "code",
   "execution_count": 4,
   "id": "9a266780",
   "metadata": {},
   "outputs": [
    {
     "name": "stderr",
     "output_type": "stream",
     "text": [
      "test_Fibrecursion (__main__.TestNotebook) ... ok\n",
      "\n",
      "----------------------------------------------------------------------\n",
      "Ran 1 test in 0.005s\n",
      "\n",
      "OK\n"
     ]
    }
   ],
   "source": [
    "class TestNotebook(unittest.TestCase):\n",
    "    def test_Fibrecursion(self):\n",
    "        \n",
    "        \n",
    "        self.assertEqual(Fibrecursion(0), 0)\n",
    "        \n",
    "        self.assertEqual(Fibrecursion(1), 1)\n",
    "        \n",
    "        self.assertEqual(Fibrecursion(4), 3)\n",
    "\n",
    "        self.assertEqual(Fibrecursion(12), 144)\n",
    "\n",
    "        self.assertEqual(Fibrecursion(19), 4181)\n",
    "        \n",
    "unittest.main(argv=[''], verbosity=2, exit=False);"
   ]
  },
  {
   "cell_type": "code",
   "execution_count": null,
   "id": "9b55f8b0",
   "metadata": {},
   "outputs": [],
   "source": []
  }
 ],
 "metadata": {
  "kernelspec": {
   "display_name": "Python 3 (ipykernel)",
   "language": "python",
   "name": "python3"
  },
  "language_info": {
   "codemirror_mode": {
    "name": "ipython",
    "version": 3
   },
   "file_extension": ".py",
   "mimetype": "text/x-python",
   "name": "python",
   "nbconvert_exporter": "python",
   "pygments_lexer": "ipython3",
   "version": "3.9.12"
  }
 },
 "nbformat": 4,
 "nbformat_minor": 5
}
